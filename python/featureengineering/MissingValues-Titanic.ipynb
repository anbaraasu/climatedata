{
 "cells": [
  {
   "cell_type": "code",
   "execution_count": null,
   "id": "d73e9b1d",
   "metadata": {},
   "outputs": [],
   "source": [
    "import pandas as pd\n",
    "import seaborn as sns\n",
    "\n",
    "# Import necessary libraries\n",
    "import matplotlib.pyplot as plt\n",
    "\n",
    "# Load the Titanic dataset\n",
    "# Replace 'titanic.csv' with the path to your Titanic dataset file\n",
    "titanic_data = pd.read_csv('titanic.csv')\n",
    "\n",
    "# Display the first few rows of the dataset\n",
    "print(titanic_data.head())\n",
    "\n",
    "# Check for missing values\n",
    "print(\"\\nMissing values in each column:\")\n",
    "print(titanic_data.isnull().sum())\n",
    "\n",
    "# Visualize the distribution of passengers by class\n",
    "plt.figure(figsize=(8, 6))\n",
    "sns.countplot(data=titanic_data, x='Pclass', palette='viridis')\n",
    "plt.title('Passenger Count by Class')\n",
    "plt.xlabel('Passenger Class')\n",
    "plt.ylabel('Count')\n",
    "plt.show()\n",
    "\n",
    "# Visualize the survival rate by gender\n",
    "plt.figure(figsize=(8, 6))\n",
    "sns.barplot(data=titanic_data, x='Sex', y='Survived', palette='coolwarm')\n",
    "plt.title('Survival Rate by Gender')\n",
    "plt.xlabel('Gender')\n",
    "plt.ylabel('Survival Rate')\n",
    "plt.show()\n",
    "\n",
    "# Visualize the age distribution of passengers\n",
    "plt.figure(figsize=(8, 6))\n",
    "sns.histplot(data=titanic_data, x='Age', kde=True, bins=30, color='blue')\n",
    "plt.title('Age Distribution of Passengers')\n",
    "plt.xlabel('Age')\n",
    "plt.ylabel('Frequency')\n",
    "plt.show()\n",
    "\n",
    "# Visualize the survival rate by passenger class\n",
    "plt.figure(figsize=(8, 6))\n",
    "sns.barplot(data=titanic_data, x='Pclass', y='Survived', palette='magma')\n",
    "plt.title('Survival Rate by Passenger Class')\n",
    "plt.xlabel('Passenger Class')\n",
    "plt.ylabel('Survival Rate')\n",
    "plt.show()\n",
    "\n",
    "# Visualize the correlation heatmap\n",
    "plt.figure(figsize=(10, 8))\n",
    "sns.heatmap(titanic_data.corr(), annot=True, cmap='coolwarm', fmt='.2f')\n",
    "plt.title('Correlation Heatmap')\n",
    "plt.show()"
   ]
  }
 ],
 "metadata": {
  "kernelspec": {
   "display_name": "Python 3",
   "language": "python",
   "name": "python3"
  },
  "language_info": {
   "codemirror_mode": {
    "name": "ipython",
    "version": 3
   },
   "file_extension": ".py",
   "mimetype": "text/x-python",
   "name": "python",
   "nbconvert_exporter": "python",
   "pygments_lexer": "ipython3",
   "version": "3.13.0"
  }
 },
 "nbformat": 4,
 "nbformat_minor": 5
}
