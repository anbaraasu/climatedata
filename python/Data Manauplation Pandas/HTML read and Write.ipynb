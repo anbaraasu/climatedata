{
 "cells": [
  {
   "cell_type": "markdown",
   "id": "60e15e16",
   "metadata": {},
   "source": [
    "# HTML Read and Write"
   ]
  }
 ],
 "metadata": {
  "language_info": {
   "name": "python"
  }
 },
 "nbformat": 4,
 "nbformat_minor": 5
}
