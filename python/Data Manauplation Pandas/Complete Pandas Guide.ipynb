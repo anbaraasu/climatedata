{
 "cells": [
  {
   "cell_type": "markdown",
   "id": "90d9e524",
   "metadata": {},
   "source": [
    "# Complete Pandas Guide"
   ]
  },
  {
   "cell_type": "markdown",
   "id": "101530ef",
   "metadata": {},
   "source": [
    "## Introduction to pandas"
   ]
  },
  {
   "cell_type": "markdown",
   "id": "e36fd7b6",
   "metadata": {},
   "source": [
    "### 1. Install Pandas"
   ]
  },
  {
   "cell_type": "code",
   "execution_count": null,
   "id": "2a129235",
   "metadata": {},
   "outputs": [],
   "source": [
    "!pip install pandas"
   ]
  },
  {
   "cell_type": "code",
   "execution_count": null,
   "id": "fc7e5e78",
   "metadata": {},
   "outputs": [],
   "source": [
    "pip list"
   ]
  }
 ],
 "metadata": {
  "language_info": {
   "name": "python"
  }
 },
 "nbformat": 4,
 "nbformat_minor": 5
}
